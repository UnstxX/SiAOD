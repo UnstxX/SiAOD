{
 "cells": [
  {
   "cell_type": "markdown",
   "id": "01833fd4",
   "metadata": {},
   "source": [
    "# Лабораторная работа №2\n",
    "## Выполнил студент группы БСТ2003 Платонов В.С."
   ]
  },
  {
   "cell_type": "markdown",
   "id": "ff369b09",
   "metadata": {},
   "source": [
    "Реализовать методы поиска в соответствии с заданием. Организовать генерацию начального набора случайных данных. Для всех вариантов добавить реализацию добавления, поиска и удаления элементов. Оценить время работы каждого алгоритма поиска и сравнить его со временем работы стандартной функции поиска, используемой в выбранном языке программирования."
   ]
  },
  {
   "cell_type": "markdown",
   "id": "8baaf544",
   "metadata": {},
   "source": [
    "#### Импорт библиотек"
   ]
  },
  {
   "cell_type": "code",
   "execution_count": 1,
   "id": "349436fd",
   "metadata": {},
   "outputs": [],
   "source": [
    "import copy\n",
    "from random import randint\n",
    "import time"
   ]
  },
  {
   "cell_type": "markdown",
   "id": "80c0fec3",
   "metadata": {},
   "source": [
    "### Задание 1"
   ]
  },
  {
   "cell_type": "markdown",
   "id": "3a660a6a",
   "metadata": {},
   "source": [
    "Алгоритм бинарного поиска"
   ]
  },
  {
   "cell_type": "code",
   "execution_count": 2,
   "id": "37ddae53",
   "metadata": {},
   "outputs": [],
   "source": [
    "def binary_search(list_of_numbers, value):\n",
    "    first = 0\n",
    "    last = len(list_of_numbers) - 1\n",
    "    index = -1\n",
    "\n",
    "    while first <= last and index == -1:\n",
    "        mid = (first + last) // 2\n",
    "        if list_of_numbers[mid] == value:\n",
    "            index = mid\n",
    "        else:\n",
    "            if value < list_of_numbers[mid]:\n",
    "                last = mid - 1\n",
    "            else:\n",
    "                first = mid + 1\n",
    "    return index"
   ]
  },
  {
   "cell_type": "markdown",
   "id": "0188d894",
   "metadata": {},
   "source": [
    "Алгоритм поиска методом бинарного дерева"
   ]
  },
  {
   "cell_type": "code",
   "execution_count": 3,
   "id": "8f0ca91c",
   "metadata": {},
   "outputs": [],
   "source": [
    "class Node:\n",
    "\n",
    "    def __init__(self, data):\n",
    "\n",
    "        self.left = None\n",
    "        self.right = None\n",
    "        self.data = data\n",
    "\n",
    "    def insert(self, data):\n",
    "\n",
    "        if self.data:\n",
    "            if data < self.data:\n",
    "                if self.left is None:\n",
    "                    self.left = Node(data)\n",
    "                else:\n",
    "                    self.left.insert(data)\n",
    "            elif data > self.data:\n",
    "                if self.right is None:\n",
    "                    self.right = Node(data)\n",
    "                else:\n",
    "                    self.right.insert(data)\n",
    "        else:\n",
    "            self.data = data\n",
    "\n",
    "    def findval(self, lkpval):\n",
    "        if lkpval < self.data:\n",
    "            if self.left is None:\n",
    "                print(lkpval, \"не найден.\")\n",
    "                return False\n",
    "            return self.left.findval(lkpval)\n",
    "        elif lkpval > self.data:\n",
    "            if self.right is None:\n",
    "                print(lkpval, \"не найден.\")\n",
    "                return False\n",
    "            return self.right.findval(lkpval)\n",
    "        else:\n",
    "            print(self.data, ' найден.')\n",
    "            return True\n",
    "\n",
    "    def PrintTree(self):\n",
    "        if self.left:\n",
    "            self.left.PrintTree()\n",
    "        print(self.data),\n",
    "        if self.right:\n",
    "            self.right.PrintTree()\n",
    "\n",
    "\n",
    "def make_a_tree(arr):\n",
    "    root = Node(arr[0])\n",
    "    for i in arr[1::]:\n",
    "        root.insert(i)\n",
    "    return root"
   ]
  },
  {
   "cell_type": "markdown",
   "id": "081d4e68",
   "metadata": {},
   "source": [
    "Алгоритм поиска Фибоначчи"
   ]
  },
  {
   "cell_type": "code",
   "execution_count": 4,
   "id": "a31f854c",
   "metadata": {},
   "outputs": [],
   "source": [
    "def fibonacci_search(list_of_items, value):\n",
    "    fib_minus_2 = 0\n",
    "    fib_minus_1 = 1\n",
    "    fib = fib_minus_1 + fib_minus_2\n",
    "    while fib < len(list_of_items):\n",
    "        fib_minus_2 = fib_minus_1\n",
    "        fib_minus_1 = fib\n",
    "        fib = fib_minus_1 + fib_minus_2\n",
    "    index = -1\n",
    "    while fib > 1:\n",
    "        i = min(index + fib_minus_2, (len(list_of_items) - 1))\n",
    "        if list_of_items[i] < value:\n",
    "            fib = fib_minus_1\n",
    "            fib_minus_1 = fib_minus_2\n",
    "            fib_minus_2 = fib - fib_minus_1\n",
    "            index = i\n",
    "        elif list_of_items[i] > value:\n",
    "            fib = fib_minus_2\n",
    "            fib_minus_1 = fib_minus_1 - fib_minus_2\n",
    "            fib_minus_2 = fib - fib_minus_1\n",
    "        else:\n",
    "            return i\n",
    "    if fib_minus_1 and index < len(list_of_items) - 1 and list_of_items[index + 1] == value:\n",
    "        return index + 1\n",
    "    return -1"
   ]
  },
  {
   "cell_type": "markdown",
   "id": "dbba37a1",
   "metadata": {},
   "source": [
    "Алгорит интерполяционного поиска"
   ]
  },
  {
   "cell_type": "code",
   "execution_count": 5,
   "id": "2be19de1",
   "metadata": {},
   "outputs": [],
   "source": [
    "def interpolation_search(list_of_items, value):\n",
    "    low = 0\n",
    "    high = len(list_of_items) - 1\n",
    "    while low <= high and value >= list_of_items[low] and value <= list_of_items[high]:\n",
    "        index = low + int(((float(high - low) / (list_of_items[high] - list_of_items[low])) * (value - list_of_items[low])))\n",
    "        if list_of_items[index] == value:\n",
    "            return index\n",
    "        if list_of_items[index] < value:\n",
    "            low = index + 1\n",
    "        else:\n",
    "            high = index - 1\n",
    "    return -1"
   ]
  },
  {
   "cell_type": "markdown",
   "id": "1e9b0d18",
   "metadata": {},
   "source": [
    "Алгоритмы создания списка, его вывода, удаления/добавления элемента"
   ]
  },
  {
   "cell_type": "code",
   "execution_count": 6,
   "id": "87724c12",
   "metadata": {},
   "outputs": [],
   "source": [
    "def list_create():\n",
    "    list_of_items = [randint(-500, 500) for j in range(n)]\n",
    "    print(list_of_items)\n",
    "    return list_of_items\n",
    "\n",
    "\n",
    "def Print(array, n):\n",
    "    for i in range(int(n)):\n",
    "        print(array[i], end=' ')\n",
    "    print()\n",
    "\n",
    "\n",
    "def delete_element(list_of_items):\n",
    "    print(\"Хотите удалить элемент? \")\n",
    "    ans = input()\n",
    "    if ans == \"да\" or ans == \"Да\":\n",
    "        index = int(input(\"Введите индекс: \"))\n",
    "        del list_of_items[index]\n",
    "        Print(list_of_items, n - 1)\n",
    "\n",
    "\n",
    "def insert_element(list_of_items):\n",
    "    print(\"Хотите внести элемент? \")\n",
    "    ans = input()\n",
    "    if ans == \"да\" or ans == \"Да\":\n",
    "        el = int(input(\"Введите число: \"))\n",
    "        index = int(input(\"Введите индекс: \"))\n",
    "        list_of_items.insert(index, el)\n",
    "        Print(list_of_items, n + 1)"
   ]
  },
  {
   "cell_type": "markdown",
   "id": "a1ec392b",
   "metadata": {},
   "source": [
    "Выполнение задания"
   ]
  },
  {
   "cell_type": "code",
   "execution_count": 8,
   "id": "01f60ec0",
   "metadata": {},
   "outputs": [
    {
     "name": "stdout",
     "output_type": "stream",
     "text": [
      "Введите длину массива: 10\n",
      "Исходный список:\n",
      "[137, 177, 376, 345, 287, -133, -232, -17, -298, -301]\n",
      "[-301, -298, -232, -133, -17, 137, 177, 287, 345, 376]\n",
      "Бинарный поиск: \n",
      "Введите элемент для поиска: 177\n",
      "Искомый элемент имеет индекс 6\n",
      "Время работы бинарного поиска: 0.0\n",
      "Хотите внести элемент? \n",
      "нет\n",
      "Хотите удалить элемент? \n",
      "нет\n",
      "[-301, -298, -232, -133, -17, 137, 177, 287, 345, 376]\n",
      "Фибоначчиев поиск: \n",
      "Введите элемент для поиска: -17\n",
      "Искомый элемент имеет индекс 4\n",
      "Время работы поиска Фибоначчи: 0.001001119613647461\n",
      "Хотите внести элемент? \n",
      "нет\n",
      "Хотите удалить элемент? \n",
      "нет\n",
      "[-301, -298, -232, -133, -17, 137, 177, 287, 345, 376]\n",
      "Интерполяционный поиск: \n",
      "Введите элемент для поиска: 137\n",
      "Искомый элемент имеет индекс 5\n",
      "Время работы интерполяционного поиска: 0.0\n",
      "Хотите внести элемент? \n",
      "нет\n",
      "Хотите удалить элемент? \n",
      "нет\n",
      "Введите элемент для поиска: -133\n",
      "-133  найден.\n",
      "Время работы поиска в бинарном дереве: 0.0\n",
      "Хотите внести элемент? нет\n",
      "Хотите удалить элемент? нет\n",
      "0.0\n"
     ]
    }
   ],
   "source": [
    "n = int(input(\"Введите длину массива: \"))\n",
    "\n",
    "\n",
    "def main():\n",
    "    print(\"Исходный список:\")\n",
    "    list_of_items = list_create()\n",
    "    list_of_items_binary = copy.deepcopy(list_of_items)\n",
    "    list_of_items_binary.sort()\n",
    "    print(list_of_items_binary)\n",
    "    print(\"Бинарный поиск: \")\n",
    "    value = int(input(\"Введите элемент для поиска: \"))\n",
    "    start_time_bin = time.time()\n",
    "    print(f\"Искомый элемент имеет индекс {binary_search(list_of_items_binary, value)}\")\n",
    "    end_time_bin = time.time() - start_time_bin\n",
    "    print(f\"Время работы бинарного поиска: {end_time_bin}\")\n",
    "    insert_element(list_of_items_binary)\n",
    "    delete_element(list_of_items_binary)\n",
    "\n",
    "    list_of_items_fibonacci = copy.deepcopy(list_of_items)\n",
    "    list_of_items_fibonacci.sort()\n",
    "    print(list_of_items_fibonacci)\n",
    "    print(\"Фибоначчиев поиск: \")\n",
    "    value = int(input(\"Введите элемент для поиска: \"))\n",
    "    start_time_fib = time.time()\n",
    "    print(f\"Искомый элемент имеет индекс {fibonacci_search(list_of_items_fibonacci, value)}\")\n",
    "    end_time_fib = time.time() - start_time_fib\n",
    "    print(f\"Время работы поиска Фибоначчи: {end_time_fib}\")\n",
    "    insert_element(list_of_items_fibonacci)\n",
    "    delete_element(list_of_items_fibonacci)\n",
    "\n",
    "    list_of_items_interpolation = copy.deepcopy(list_of_items)\n",
    "    list_of_items_interpolation.sort()\n",
    "    print(list_of_items_interpolation)\n",
    "    print(\"Интерполяционный поиск: \")\n",
    "    value = int(input(\"Введите элемент для поиска: \"))\n",
    "    start_time_int = time.time()\n",
    "    print(f\"Искомый элемент имеет индекс {interpolation_search(list_of_items_interpolation, value)}\")\n",
    "    end_time_int = time.time() - start_time_int\n",
    "    print(f\"Время работы интерполяционного поиска: {end_time_int}\")\n",
    "    insert_element(list_of_items_interpolation)\n",
    "    delete_element(list_of_items_interpolation)\n",
    "\n",
    "    list_of_items_tree = copy.deepcopy(list_of_items)\n",
    "    root = make_a_tree(list_of_items_tree)\n",
    "    value = int(input(\"Введите элемент для поиска: \"))\n",
    "    start_time_tree = time.time()\n",
    "    result = root.findval(value)\n",
    "    end_time_tree = time.time() - start_time_tree\n",
    "    print(f\"Время работы поиска в бинарном дереве: {end_time_tree}\")\n",
    "    ans = input(\"Хотите внести элемент? \")\n",
    "    if ans == \"да\" or ans == \"Да\":\n",
    "        val = int(input(\"Введите элемент, который хотите внести: \"))\n",
    "        root.insert(val)\n",
    "        root.PrintTree()\n",
    "    ans = input(\"Хотите удалить элемент? \")\n",
    "    if ans == \"да\" or ans == \"Да\":\n",
    "        val = int(input(\"Введите элемент, который хотите удалить: \"))\n",
    "        list_of_items_tree.remove(val)\n",
    "        root = make_a_tree(list_of_items_tree)\n",
    "        root.PrintTree()\n",
    "    print(end_time_tree)\n",
    "\n",
    "\n",
    "if __name__ == \"__main__\":\n",
    "    main()"
   ]
  },
  {
   "cell_type": "markdown",
   "id": "d3fb244d",
   "metadata": {},
   "source": [
    "### Задание №2"
   ]
  },
  {
   "cell_type": "markdown",
   "id": "35bfe131",
   "metadata": {},
   "source": [
    "Импорт библиотек"
   ]
  },
  {
   "cell_type": "code",
   "execution_count": 11,
   "id": "c4999263",
   "metadata": {},
   "outputs": [],
   "source": [
    "import random"
   ]
  },
  {
   "cell_type": "markdown",
   "id": "4ecd53d1",
   "metadata": {},
   "source": [
    "Класс для определения хэш таблицы"
   ]
  },
  {
   "cell_type": "code",
   "execution_count": 12,
   "id": "bad4ea4c",
   "metadata": {},
   "outputs": [],
   "source": [
    "class ClassForRehash:\n",
    "    def __init__(self, value1):\n",
    "        self.value1 = value1\n",
    "        self.hash = int((((value1 % ClassForRehash.MAX_HASH_TABLE) * 331) & 127) % ClassForRehash.MAX_HASH_TABLE)\n",
    "        self.hashh = int(value1)\n",
    "\n",
    "    MAX_HASH_TABLE = 8"
   ]
  },
  {
   "cell_type": "markdown",
   "id": "06e32c63",
   "metadata": {},
   "source": [
    "Простое рехэширование"
   ]
  },
  {
   "cell_type": "code",
   "execution_count": 13,
   "id": "aa58f468",
   "metadata": {},
   "outputs": [
    {
     "name": "stdout",
     "output_type": "stream",
     "text": [
      "объект со значением 1 имеет хэш: 3 (рехеширование не требовалось)\n",
      "объект со значением 5 имеет хэш: 7 (рехеширование не требовалось)\n",
      "объект со значением 3 имеет хэш: 1 (рехеширование не требовалось)\n",
      "объект со значением 6 имеет хэш: 2 (рехеширование не требовалось)\n",
      "объект со значением 8 имеет хэш: 0 (рехеширование не требовалось)\n",
      "объект со значением 3 имеет хэш: 4 (рехешировано. коллизия была в хеше: 1)\n",
      "объект со значением 2 имеет хэш: 6 (рехеширование не требовалось)\n",
      "объект со значением 7 имеет хэш: 5 (рехеширование не требовалось)\n",
      "таблица заполнена!\n",
      "таблица заполнена!\n"
     ]
    }
   ],
   "source": [
    "class SimpleRehashTable:\n",
    "\n",
    "    def __init__(self, length):\n",
    "        self.table = [None] * length\n",
    "\n",
    "    def add_el(self, element):\n",
    "        original_hash = element.hash\n",
    "        if self.table[original_hash] is None:\n",
    "            self.table[original_hash] = element\n",
    "            print(\"объект со значением %i имеет хэш: %i (рехеширование не требовалось)\"\n",
    "                  % (self.table[original_hash].value1, element.hash))\n",
    "            return\n",
    "        # Простое рехеширование\n",
    "        new_hash = original_hash + 1\n",
    "        while new_hash != original_hash:\n",
    "            if new_hash >= len(self.table):\n",
    "                new_hash = 0\n",
    "                continue\n",
    "            if self.table[new_hash] is None:\n",
    "                element.hash = new_hash\n",
    "                self.table[new_hash] = element\n",
    "                print(\"объект со значением %i имеет хэш: %i (рехешировано. коллизия была в хеше: %i)\"\n",
    "                      % (self.table[new_hash].value1, element.hash, original_hash))\n",
    "                return\n",
    "            new_hash += 1\n",
    "        print(\"таблица заполнена!\")\n",
    "        return\n",
    "\n",
    "\n",
    "# вывод\n",
    "simple_re = SimpleRehashTable(ClassForRehash.MAX_HASH_TABLE)\n",
    "for i in range(len(simple_re.table) + 2):\n",
    "    simple_re.add_el(ClassForRehash(random.randint(0, 8)))"
   ]
  },
  {
   "cell_type": "markdown",
   "id": "a63ef0e6",
   "metadata": {},
   "source": [
    "Случайное рехэширование"
   ]
  },
  {
   "cell_type": "code",
   "execution_count": 14,
   "id": "d1696fbe",
   "metadata": {},
   "outputs": [
    {
     "name": "stdout",
     "output_type": "stream",
     "text": [
      "объект со значением 7 имеет хэш: 5 (рехеширование не требовалось)\n",
      "объект со значением 4 имеет хэш: 4 (рехеширование не требовалось)\n",
      "объект со значением 8 имеет хэш: 0 (рехеширование не требовалось)\n",
      "объект со значением 3 имеет хэш: 1 (рехеширование не требовалось)\n",
      "объект со значением 5 имеет хэш: 7 (рехеширование не требовалось)\n",
      "объект со значением 9 имеет хэш: 3 (рехеширование не требовалось)\n",
      "объект со значением 5 имеет хэш: 6 (рехешировано. коллизия была в хеше: 7)\n",
      "объект со значением 6 имеет хэш: 2 (рехеширование не требовалось)\n",
      "Не удалось найти свободный хеш в таблице!\n",
      "Не удалось найти свободный хеш в таблице!\n"
     ]
    }
   ],
   "source": [
    "class RandomRehashTable:\n",
    "\n",
    "    def __init__(self, length):\n",
    "        self.table = [None] * length\n",
    "\n",
    "    def add_el(self, element):\n",
    "        original_hash = element.hash\n",
    "        if self.table[original_hash] is None:\n",
    "            self.table[original_hash] = element\n",
    "            print(\"объект со значением %i имеет хэш: %i (рехеширование не требовалось)\"\n",
    "                  % (self.table[original_hash].value1, original_hash))\n",
    "            return\n",
    "        # случайное рехеширование\n",
    "        table_len = len(self.table)\n",
    "        r = 1\n",
    "        for ii in range(10):  # range(число попыток определить новый хеш)\n",
    "            r *= 5\n",
    "            r = r % (4 * table_len)\n",
    "            new_hash = r // 4\n",
    "            if self.table[new_hash] is None:\n",
    "                element.hash = new_hash\n",
    "                self.table[new_hash] = element\n",
    "                print(\"объект со значением %i имеет хэш: %i (рехешировано. коллизия была в хеше: %i)\"\n",
    "                      % (self.table[new_hash].value1, element.hash, original_hash))\n",
    "                return\n",
    "        print(\"Не удалось найти свободный хеш в таблице!\")\n",
    "        return\n",
    "\n",
    "\n",
    "# вывод\n",
    "random_re = RandomRehashTable(ClassForRehash.MAX_HASH_TABLE)\n",
    "for i in range(len(random_re.table) + 2):\n",
    "    random_re.add_el(ClassForRehash(random.randint(0, 9)))"
   ]
  },
  {
   "cell_type": "markdown",
   "id": "677d6aa9",
   "metadata": {},
   "source": [
    "Рехэширование методом цепочек"
   ]
  },
  {
   "cell_type": "code",
   "execution_count": 16,
   "id": "b8080ed2",
   "metadata": {},
   "outputs": [
    {
     "name": "stdout",
     "output_type": "stream",
     "text": [
      "[hash: 0] 0 \n",
      "[hash: 1] 1 \n",
      "[hash: 2] Пусто\n",
      "[hash: 3] 3 \n",
      "[hash: 4] 4 \n",
      "[hash: 5] 5 \n",
      "[hash: 6] 6 6 \n",
      "[hash: 7] 7 \n"
     ]
    }
   ],
   "source": [
    "class ChainRehashTable:\n",
    "\n",
    "    def __init__(self, length):\n",
    "        self.table = [None] * length\n",
    "    def add_el(self, element):\n",
    "        # метод цепочек\n",
    "        original_hash = element.hashh\n",
    "        if self.table[original_hash] is None:\n",
    "            self.table[original_hash] = [element]\n",
    "            return\n",
    "        else:\n",
    "            self.table[original_hash].append(element)\n",
    "            return\n",
    "\n",
    "\n",
    "# вывод\n",
    "chain_re = ChainRehashTable(ClassForRehash.MAX_HASH_TABLE)\n",
    "for i in range(len(chain_re.table)):\n",
    "    chain_re.add_el(ClassForRehash(random.randint(0, 7)))\n",
    "hash = 0\n",
    "for x in chain_re.table:  # вывод хеш таблицы для метода цепочек\n",
    "    print(\"[hash: %i]\" % hash, end=\" \")\n",
    "    if x is None:\n",
    "        print(\"Пусто\")\n",
    "    else:\n",
    "        for y in x:\n",
    "            print(y.value1, end=\" \")\n",
    "        print(\"\")\n",
    "    hash += 1"
   ]
  },
  {
   "cell_type": "markdown",
   "id": "cfb2b4da",
   "metadata": {},
   "source": [
    "Генерация случайного списка"
   ]
  },
  {
   "cell_type": "code",
   "execution_count": 17,
   "id": "2b484c44",
   "metadata": {},
   "outputs": [],
   "source": [
    "def generate_array(length=100):  # генерируем случайный массив\n",
    "    array = []\n",
    "    while len(array) < length:\n",
    "        array.append(random.randint(0, 100))\n",
    "    return array"
   ]
  },
  {
   "cell_type": "markdown",
   "id": "b9b693ee",
   "metadata": {},
   "source": [
    "### Задание №3"
   ]
  },
  {
   "cell_type": "code",
   "execution_count": 18,
   "id": "ec63a35f",
   "metadata": {},
   "outputs": [
    {
     "name": "stdout",
     "output_type": "stream",
     "text": [
      "a1,e2,h3,f4,c5,g6,b7,d8\n",
      "a1,f2,h3,c4,g5,d6,b7,e8\n",
      "a1,g2,d3,f4,h5,b6,e7,c8\n",
      "a1,g2,e3,h4,b5,d6,f7,c8\n",
      "b1,d2,f3,h4,c5,a6,g7,e8\n",
      "b1,e2,g3,a4,c5,h6,f7,d8\n",
      "b1,e2,g3,d4,a5,h6,f7,c8\n",
      "b1,f2,a3,g4,d5,h6,c7,e8\n",
      "b1,f2,h3,c4,a5,d6,g7,e8\n",
      "b1,g2,c3,f4,h5,e6,a7,d8\n",
      "b1,g2,e3,h4,a5,d6,f7,c8\n",
      "b1,h2,f3,a4,c5,e6,g7,d8\n",
      "c1,a2,g3,e4,h5,b6,d7,f8\n",
      "c1,e2,b3,h4,a5,g6,d7,f8\n",
      "c1,e2,b3,h4,f5,d6,g7,a8\n",
      "c1,e2,g3,a4,d5,b6,h7,f8\n",
      "c1,e2,h3,d4,a5,g6,b7,f8\n",
      "c1,f2,b3,e4,h5,a6,g7,d8\n",
      "c1,f2,b3,g4,a5,d6,h7,e8\n",
      "c1,f2,b3,g4,e5,a6,h7,d8\n",
      "c1,f2,d3,a4,h5,e6,g7,b8\n",
      "c1,f2,d3,b4,h5,e6,g7,a8\n",
      "c1,f2,h3,a4,d5,g6,e7,b8\n",
      "c1,f2,h3,a4,e5,g6,b7,d8\n",
      "c1,f2,h3,b4,d5,a6,g7,e8\n",
      "c1,g2,b3,h4,e5,a6,d7,f8\n",
      "c1,g2,b3,h4,f5,d6,a7,e8\n",
      "c1,h2,d3,g4,a5,f6,b7,e8\n",
      "d1,a2,e3,h4,b5,g6,c7,f8\n",
      "d1,a2,e3,h4,f5,c6,g7,b8\n",
      "d1,b2,e3,h4,f5,a6,c7,g8\n",
      "d1,b2,g3,c4,f5,h6,a7,e8\n",
      "d1,b2,g3,c4,f5,h6,e7,a8\n",
      "d1,b2,g3,e4,a5,h6,f7,c8\n",
      "d1,b2,h3,e4,g5,a6,c7,f8\n",
      "d1,b2,h3,f4,a5,c6,e7,g8\n",
      "d1,f2,a3,e4,b5,h6,c7,g8\n",
      "d1,f2,h3,b4,g5,a6,c7,e8\n",
      "d1,f2,h3,c4,a5,g6,e7,b8\n",
      "d1,g2,a3,h4,e5,b6,f7,c8\n",
      "d1,g2,c3,h4,b5,e6,a7,f8\n",
      "d1,g2,e3,b4,f5,a6,c7,h8\n",
      "d1,g2,e3,c4,a5,f6,h7,b8\n",
      "d1,h2,a3,c4,f5,b6,g7,e8\n",
      "d1,h2,a3,e4,g5,b6,f7,c8\n",
      "d1,h2,e3,c4,a5,g6,b7,f8\n",
      "e1,a2,d3,f4,h5,b6,g7,c8\n",
      "e1,a2,h3,d4,b5,g6,c7,f8\n",
      "e1,a2,h3,f4,c5,g6,b7,d8\n",
      "e1,b2,d3,f4,h5,c6,a7,g8\n",
      "e1,b2,d3,g4,c5,h6,f7,a8\n",
      "e1,b2,f3,a4,g5,d6,h7,c8\n",
      "e1,b2,h3,a4,d5,g6,c7,f8\n",
      "e1,c2,a3,f4,h5,b6,d7,g8\n",
      "e1,c2,a3,g4,b5,h6,f7,d8\n",
      "e1,c2,h3,d4,g5,a6,f7,b8\n",
      "e1,g2,a3,c4,h5,f6,d7,b8\n",
      "e1,g2,a3,d4,b5,h6,f7,c8\n",
      "e1,g2,b3,d4,h5,a6,c7,f8\n",
      "e1,g2,b3,f4,c5,a6,d7,h8\n",
      "e1,g2,b3,f4,c5,a6,h7,d8\n",
      "e1,g2,d3,a4,c5,h6,f7,b8\n",
      "e1,h2,d3,a4,c5,f6,b7,g8\n",
      "e1,h2,d3,a4,g5,b6,f7,c8\n",
      "f1,a2,e3,b4,h5,c6,g7,d8\n",
      "f1,b2,g3,a4,c5,e6,h7,d8\n",
      "f1,b2,g3,a4,d5,h6,e7,c8\n",
      "f1,c2,a3,g4,e5,h6,b7,d8\n",
      "f1,c2,a3,h4,d5,b6,g7,e8\n",
      "f1,c2,a3,h4,e5,b6,d7,g8\n",
      "f1,c2,e3,g4,a5,d6,b7,h8\n",
      "f1,c2,e3,h4,a5,d6,b7,g8\n",
      "f1,c2,g3,b4,d5,h6,a7,e8\n",
      "f1,c2,g3,b4,h5,e6,a7,d8\n",
      "f1,c2,g3,d4,a5,h6,b7,e8\n",
      "f1,d2,a3,e4,h5,b6,g7,c8\n",
      "f1,d2,b3,h4,e5,g6,a7,c8\n",
      "f1,d2,g3,a4,c5,e6,b7,h8\n",
      "f1,d2,g3,a4,h5,b6,e7,c8\n",
      "f1,h2,b3,d4,a5,g6,e7,c8\n",
      "g1,a2,c3,h4,f5,d6,b7,e8\n",
      "g1,b2,d3,a4,h5,e6,c7,f8\n",
      "g1,b2,f3,c4,a5,d6,h7,e8\n",
      "g1,c2,a3,f4,h5,e6,b7,d8\n",
      "g1,c2,h3,b4,e5,a6,f7,d8\n",
      "g1,d2,b3,e4,h5,a6,c7,f8\n",
      "g1,d2,b3,h4,f5,a6,c7,e8\n",
      "g1,e2,c3,a4,f5,h6,b7,d8\n",
      "h1,b2,d3,a4,g5,e6,c7,f8\n",
      "h1,b2,e3,c4,a5,g6,d7,f8\n",
      "h1,c2,a3,f4,b5,e6,g7,d8\n",
      "h1,d2,a3,c4,f5,b6,g7,e8\n",
      "Число решений: 92\n",
      "Число проведенных операций (итераций): 2056\n"
     ]
    }
   ],
   "source": [
    "board = [[0 for i in range(8)] for j in range(8)]\n",
    "counter = 0\n",
    "operation_counter = 0\n",
    "\n",
    "\n",
    "def set_queen(i, j):\n",
    "    global operation_counter\n",
    "    operation_counter += 1\n",
    "    for x in range(8):\n",
    "        board[x][j] += 1\n",
    "        board[i][x] += 1\n",
    "        if 0 <= i + j - x < 8:\n",
    "            board[i + j - x][x] += 1\n",
    "        if 0 <= i - j + x < 8:\n",
    "            board[i - j + x][x] += 1\n",
    "    board[i][j] = -1\n",
    "\n",
    "\n",
    "def remove_queen(i, j):\n",
    "    for x in range(8):\n",
    "        board[x][j] -= 1\n",
    "        board[i][x] -= 1\n",
    "        if 0 <= i + j - x < 8:\n",
    "            board[i + j - x][x] -= 1\n",
    "        if 0 <= i - j + x < 8:\n",
    "            board[i - j + x][x] -= 1\n",
    "    board[i][j] = 0\n",
    "\n",
    "\n",
    "def print_position():\n",
    "    global counter\n",
    "    counter += 1\n",
    "    alphabet = 'abcdefgh'\n",
    "    answer = []\n",
    "    for i in range(8):\n",
    "        for j in range(8):\n",
    "            if board[i][j] == -1:\n",
    "                answer.append(alphabet[j] + str(i + 1))\n",
    "    print(','.join(answer))\n",
    "\n",
    "\n",
    "def solve(i):\n",
    "    for j in range(8):\n",
    "        if board[i][j] == 0:\n",
    "            set_queen(i, j)\n",
    "            if i == 7:\n",
    "                print_position()\n",
    "            else:\n",
    "                solve(i + 1)\n",
    "            remove_queen(i, j)\n",
    "\n",
    "\n",
    "def main():\n",
    "    solve(0)                   # Вывод всех вариантов решения задачи\n",
    "    print(f\"Число решений: {counter}\")             # Вывод числа решений\n",
    "    print(f\"Число проведенных операций (итераций): {operation_counter}\")   # Вывод числа проведенных операций\n",
    "\n",
    "\n",
    "if __name__ == \"__main__\":\n",
    "    main()"
   ]
  },
  {
   "cell_type": "code",
   "execution_count": null,
   "id": "20d6f84e",
   "metadata": {},
   "outputs": [],
   "source": []
  }
 ],
 "metadata": {
  "kernelspec": {
   "display_name": "Python 3 (ipykernel)",
   "language": "python",
   "name": "python3"
  },
  "language_info": {
   "codemirror_mode": {
    "name": "ipython",
    "version": 3
   },
   "file_extension": ".py",
   "mimetype": "text/x-python",
   "name": "python",
   "nbconvert_exporter": "python",
   "pygments_lexer": "ipython3",
   "version": "3.10.1"
  }
 },
 "nbformat": 4,
 "nbformat_minor": 5
}
