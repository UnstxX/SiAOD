{
 "cells": [
  {
   "cell_type": "markdown",
   "id": "e41aecf8",
   "metadata": {},
   "source": [
    "# Лабораторная работа №5\n",
    "## Выполнил студент группы БСТ2003 Платонов В.С."
   ]
  },
  {
   "cell_type": "markdown",
   "id": "d279280d",
   "metadata": {},
   "source": [
    "Импорт библиотек"
   ]
  },
  {
   "cell_type": "code",
   "execution_count": 4,
   "id": "8a9b7f42",
   "metadata": {},
   "outputs": [],
   "source": [
    "from turtle import *\n",
    "from math import *"
   ]
  },
  {
   "cell_type": "markdown",
   "id": "de1e99a3",
   "metadata": {},
   "source": [
    "Отрисовка фрактала \"Дерево Пифагора\""
   ]
  },
  {
   "cell_type": "code",
   "execution_count": 5,
   "id": "29c1f89d",
   "metadata": {},
   "outputs": [],
   "source": [
    "def fractal(aturt, depth, maxdepth):\n",
    "    if depth > maxdepth:\n",
    "        return\n",
    "    length = 180 * ((sqrt(2) / 2) ** depth)\n",
    "    anotherturt = aturt.clone()\n",
    "    aturt.forward(length)\n",
    "    aturt.left(45)\n",
    "    fractal(aturt, depth + 1, maxdepth)\n",
    "    anotherturt.right(90)\n",
    "    anotherturt.forward(length)\n",
    "    anotherturt.left(90)\n",
    "    anotherturt.forward(length)\n",
    "    if depth != maxdepth:\n",
    "        turt3 = anotherturt.clone()\n",
    "        turt3.left(45)\n",
    "        turt3.forward(180 * ((sqrt(2) / 2) ** (1 + depth)))\n",
    "        turt3.right(90)\n",
    "        fractal(turt3, depth + 1, maxdepth)\n",
    "    anotherturt.left(90)\n",
    "    anotherturt.forward(length)\n",
    "\n",
    "\n",
    "def draw_fractal():\n",
    "    window = Screen()\n",
    "    t = Turtle()\n",
    "    t.hideturtle()\n",
    "    t.penup()\n",
    "    t.goto(-75, -225)\n",
    "    t.pendown()\n",
    "    t.speed(20)\n",
    "    t.left(90)\n",
    "    fractal(t, 1, 3)\n",
    "    window.exitonclick()\n",
    "\n",
    "\n",
    "if __name__ == \"__main__\":\n",
    "    draw_fractal()"
   ]
  },
  {
   "cell_type": "code",
   "execution_count": null,
   "id": "ac012fd6",
   "metadata": {},
   "outputs": [],
   "source": []
  }
 ],
 "metadata": {
  "kernelspec": {
   "display_name": "Python 3 (ipykernel)",
   "language": "python",
   "name": "python3"
  },
  "language_info": {
   "codemirror_mode": {
    "name": "ipython",
    "version": 3
   },
   "file_extension": ".py",
   "mimetype": "text/x-python",
   "name": "python",
   "nbconvert_exporter": "python",
   "pygments_lexer": "ipython3",
   "version": "3.10.1"
  }
 },
 "nbformat": 4,
 "nbformat_minor": 5
}