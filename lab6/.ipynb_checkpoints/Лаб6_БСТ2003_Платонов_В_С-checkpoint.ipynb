{
 "cells": [
  {
   "cell_type": "markdown",
   "id": "16424525",
   "metadata": {},
   "source": [
    "# Лабораторная работа №6\n",
    "## Выполнил студент группы БСТ2003 Платонов В.С."
   ]
  },
  {
   "cell_type": "markdown",
   "id": "6a30e31f",
   "metadata": {},
   "source": [
    "Импорт библиотек"
   ]
  },
  {
   "cell_type": "code",
   "execution_count": 3,
   "id": "badbdbbe",
   "metadata": {},
   "outputs": [],
   "source": [
    "import time\n",
    "import networkx as nx\n",
    "import matplotlib.pyplot as plt\n",
    "import fw as f\n",
    "import cam as c"
   ]
  },
  {
   "cell_type": "code",
   "execution_count": 4,
   "id": "889513d0",
   "metadata": {},
   "outputs": [],
   "source": [
    "G = nx.DiGraph()"
   ]
  },
  {
   "cell_type": "markdown",
   "id": "558483f4",
   "metadata": {},
   "source": [
    "Создание графа из текстового файла"
   ]
  },
  {
   "cell_type": "code",
   "execution_count": 5,
   "id": "ae011ae0",
   "metadata": {},
   "outputs": [],
   "source": [
    "with open('graph.txt', 'r') as inputs:\n",
    "    global graph\n",
    "    graph = []\n",
    "\n",
    "    for line in inputs:\n",
    "        graph.append(line[:-1].split(', '))"
   ]
  },
  {
   "cell_type": "code",
   "execution_count": 6,
   "id": "fad6c1cb",
   "metadata": {},
   "outputs": [
    {
     "name": "stdout",
     "output_type": "stream",
     "text": [
      "[0, 4, 5, 6, 7]\n",
      "Вермя выполнения:  0.000000 sec\n"
     ]
    },
    {
     "data": {
      "image/png": "[encoded data removed]",
      "text/plain": [
       "<Figure size 432x288 with 1 Axes>"
      ]
     },
     "metadata": {},
     "output_type": "display_data"
    }
   ],
   "source": [
    "G.add_weighted_edges_from(c.convert_adjacency_matrix(graph))\n",
    "\n",
    "pos = nx.planar_layout(G)\n",
    "nx.draw(G, with_labels='True', pos=pos)\n",
    "nx.draw_networkx_edge_labels(G, pos, edge_labels=nx.get_edge_attributes(G, 'weight'))\n",
    "start_time = time.time()\n",
    "path = f.fw(graph, 0, 7)\n",
    "end_time = time.time() - start_time\n",
    "print(path)\n",
    "print ('Вермя выполнения: ', '%.6f' %end_time,\"sec\")\n",
    "path = [(path[i], path[i+1]) for i in range(len(path)-1)]\n",
    "nx.draw_networkx_edges(G, pos=pos, edgelist=path, edge_color='red')\n",
    "nx.draw_networkx_edge_labels(G, pos, edge_labels=nx.get_edge_attributes(G, 'weight'))\n",
    "\n",
    "plt.show()"
   ]
  },
  {
   "cell_type": "markdown",
   "id": "9aae496b",
   "metadata": {},
   "source": [
    "Вспомогательные функции, изпользованные в программе"
   ]
  },
  {
   "cell_type": "code",
   "execution_count": 7,
   "id": "822669c3",
   "metadata": {},
   "outputs": [],
   "source": [
    "def convert_adjacency_matrix(matrix):\n",
    "    result_list = [(i, j, int(matrix[i][j]))\n",
    "                   for j in range(len(matrix))\n",
    "                   for i in range(len(matrix))\n",
    "                   if matrix[i][j] != 'math.inf']\n",
    "\n",
    "    return result_list"
   ]
  },
  {
   "cell_type": "code",
   "execution_count": 8,
   "id": "bab6410e",
   "metadata": {},
   "outputs": [],
   "source": [
    "import math\n",
    "\n",
    "\n",
    "# принимать должен матрицу смежности и начальныую с конечной вершины\n",
    "# возвращать должен минимальный путь от одной вершины до другой\n",
    "def fw(matrix, start, end):\n",
    "\n",
    "    V = [[int(matrix[i][j]) if matrix[i][j] != 'math.inf' else math.inf\n",
    "          for j in range(len(matrix))] for i in range(len(matrix))]\n",
    "\n",
    "    def get_path(P, start, end):\n",
    "        path = [start]\n",
    "        while start != end:\n",
    "            start = P[start][end]\n",
    "            path = [start] + path\n",
    "\n",
    "        return path\n",
    "\n",
    "    N = len(V) # число вершин в графе\n",
    "    P = [[v for v in range(N)] for u in range(N)] # начальный список предыдущих вершин для поиска кратчайших маршрутов\n",
    "\n",
    "    for k in range(N):\n",
    "        for i in range(N):\n",
    "            for j in range(N):\n",
    "                d = V[i][k] + V[k][j]\n",
    "                if V[i][j] > d:\n",
    "                    V[i][j] = d\n",
    "                    P[i][j] = k     # номер промежуточной вершины при движении от i к j\n",
    "\n",
    "    # нумерацця вершин начинается с нуля\n",
    "    # start = 0\n",
    "    # end = 7\n",
    "    return get_path(P, end, start)"
   ]
  },
  {
   "cell_type": "markdown",
   "id": "d26980c2",
   "metadata": {},
   "source": [
    "Сам граф в текстовом представлении"
   ]
  },
  {
   "cell_type": "code",
   "execution_count": 9,
   "id": "a2273631",
   "metadata": {},
   "outputs": [
    {
     "data": {
      "text/plain": [
       "(10, inf, 3, 8, inf, inf, 1, inf)"
      ]
     },
     "execution_count": 9,
     "metadata": {},
     "output_type": "execute_result"
    }
   ],
   "source": [
    "math.inf, 2, math.inf, 3, 1, math.inf, math.inf, 10\n",
    "2, math.inf, 4, math.inf, math.inf, math.inf, math.inf, math.inf\n",
    "math.inf, 4, math.inf, math.inf, math.inf, math.inf, math.inf, 3\n",
    "3, math.inf, 4, math.inf, math.inf, math.inf, math.inf, 8\n",
    "1, 3, math.inf, math.inf, math.inf, 2, math.inf, math.inf\n",
    "math.inf, math.inf, math.inf, math.inf, 2, math.inf, 3, math.inf\n",
    "math.inf, math.inf, math.inf, math.inf, 8, 3, math.inf, 1\n",
    "10, math.inf, 3, 8, math.inf, math.inf, 1, math.inf "
   ]
  },
  {
   "cell_type": "code",
   "execution_count": null,
   "id": "79ed500d",
   "metadata": {},
   "outputs": [],
   "source": []
  }
 ],
 "metadata": {
  "kernelspec": {
   "display_name": "Python 3 (ipykernel)",
   "language": "python",
   "name": "python3"
  },
  "language_info": {
   "codemirror_mode": {
    "name": "ipython",
    "version": 3
   },
   "file_extension": ".py",
   "mimetype": "text/x-python",
   "name": "python",
   "nbconvert_exporter": "python",
   "pygments_lexer": "ipython3",
   "version": "3.10.1"
  }
 },
 "nbformat": 4,
 "nbformat_minor": 5
}
