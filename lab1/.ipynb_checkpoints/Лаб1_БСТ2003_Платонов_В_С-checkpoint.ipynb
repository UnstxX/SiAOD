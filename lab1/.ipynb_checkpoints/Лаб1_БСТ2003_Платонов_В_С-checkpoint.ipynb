{
 "cells": [
  {
   "cell_type": "markdown",
   "id": "49d12b9e",
   "metadata": {},
   "source": [
    "# Лабораторная работа №1\n",
    "## Выполнил студент группы БСТ2003 Платонов В.С.\n",
    "### Задание №1"
   ]
  },
  {
   "cell_type": "code",
   "execution_count": 1,
   "id": "f9c54507",
   "metadata": {},
   "outputs": [
    {
     "name": "stdout",
     "output_type": "stream",
     "text": [
      "Hello, World!\n"
     ]
    }
   ],
   "source": [
    "print(\"Hello, World!\")"
   ]
  },
  {
   "cell_type": "markdown",
   "id": "c72d9f1f",
   "metadata": {},
   "source": [
    "### Импорт библиотек"
   ]
  },
  {
   "cell_type": "code",
   "execution_count": 2,
   "id": "1f329237",
   "metadata": {},
   "outputs": [],
   "source": [
    "from random import randint\n",
    "import time\n",
    "import copy\n",
    "import math\n",
    "import pandas as pd"
   ]
  },
  {
   "cell_type": "markdown",
   "id": "b9ff11a7",
   "metadata": {},
   "source": [
    "### Задание №2\n",
    "Написать генератор случайных матриц(многомерных), который принимает\n",
    "опциональные параметры m, n, min_limit, max_limit, где m и n указывают размер\n",
    "матрицы, а min_lim и max_lim - минимальное и максимальное значение для\n",
    "генерируемого числа . По умолчанию при отсутствии параметров принимать следующие\n",
    "значения:\n",
    "m = 50\n",
    "n = 50\n",
    "min_limit = -250\n",
    "max_limit = 1000 + (номер своего варианта)"
   ]
  },
  {
   "cell_type": "markdown",
   "id": "8412b2e0",
   "metadata": {},
   "source": [
    "### Генерация матрицы"
   ]
  },
  {
   "cell_type": "code",
   "execution_count": 3,
   "id": "cd264bd5",
   "metadata": {},
   "outputs": [],
   "source": [
    "def matrix_generation(ans):\n",
    "\n",
    "    if ans == \"Да\" or ans == \"да\":\n",
    "        m = int(input(\"Введите количество строк: \"))\n",
    "        n = int(input(\"Введите количество столбцов: \"))\n",
    "        min_limit = int(input(\"Укажите начальный диапозон чисел для генерации: \"))\n",
    "        max_limit = int(input(\"Укажите конечный диапозон чисел для генерации: \"))\n",
    "        matrix = [[randint(min_limit, max_limit+1) for j in range(n)] for i in range(m)]\n",
    "        return matrix\n",
    "    elif ans == \"Нет\" or ans == \"нет\":\n",
    "        m = 50\n",
    "        n = 50\n",
    "        min_limit = -250\n",
    "        max_limit = 1000 + 12\n",
    "        matrix = [[randint(min_limit, max_limit+1) for j in range(n)] for i in range(m)]\n",
    "        return matrix\n",
    "    else:\n",
    "        print(\"Пожалуйста, ответьте на вопрос строго Да или Нет\")"
   ]
  },
  {
   "cell_type": "markdown",
   "id": "d6aa9f9e",
   "metadata": {},
   "source": [
    "### Задание №3\n",
    "Реализовать методы сортировки строк числовой матрицы в соответствии с\n",
    "заданием. Оценить время работы каждого алгоритма сортировки и сравнить его со\n",
    "временем стандартной функции сортировки. Испытания проводить на сгенерированных\n",
    "матрицах.\n",
    "Методы:Выбором,Вставкой,Обменом,Шелла,Турнирная,Быстрая сортировка,Пирамидальная"
   ]
  },
  {
   "cell_type": "markdown",
   "id": "23feb362",
   "metadata": {},
   "source": [
    "### Сортировка выбором"
   ]
  },
  {
   "cell_type": "code",
   "execution_count": 4,
   "id": "14893462",
   "metadata": {},
   "outputs": [],
   "source": [
    "def selection_sort(matrix):\n",
    "    for row in range(len(matrix)):\n",
    "        for col in range(len(matrix[0])-1):\n",
    "            for col_s in range(col+1, len(matrix[0])):\n",
    "                if matrix[row][col_s] < matrix[row][col]:\n",
    "                    matrix[row][col], matrix[row][col_s] = matrix[row][col_s], matrix[row][col]\n",
    "    return matrix"
   ]
  },
  {
   "cell_type": "markdown",
   "id": "2794ef9f",
   "metadata": {},
   "source": [
    "### Сортировка вставкой"
   ]
  },
  {
   "cell_type": "code",
   "execution_count": 5,
   "id": "a5a1df0c",
   "metadata": {},
   "outputs": [],
   "source": [
    "def insertion_sort(matrix):\n",
    "    for row in range(len(matrix)):\n",
    "        for col in range (1,len(matrix[0])):\n",
    "            key = matrix[row][col]\n",
    "            j = col-1\n",
    "            while j >=0 and key < matrix[row][j]:\n",
    "                matrix[row][j+1] = matrix[row][j]\n",
    "                j -= 1\n",
    "            matrix[row][j+1] = key\n",
    "    return matrix"
   ]
  },
  {
   "cell_type": "markdown",
   "id": "bb1466b1",
   "metadata": {},
   "source": [
    "### Сортировка обменом"
   ]
  },
  {
   "cell_type": "code",
   "execution_count": 6,
   "id": "78cd1e63",
   "metadata": {},
   "outputs": [],
   "source": [
    "def exchange_sort(matrix):\n",
    "    for row in range(len(matrix)):\n",
    "        for col in range(len(matrix[0])-1):\n",
    "            for j in range(len(matrix[0])-col-1):\n",
    "                if matrix[row][j] > matrix[row][j+1]:\n",
    "                    matrix[row][j], matrix[row][j+1] = matrix[row][j+1], matrix[row][j]\n",
    "    return matrix"
   ]
  },
  {
   "cell_type": "markdown",
   "id": "fee9a0d2",
   "metadata": {},
   "source": [
    "### Сортировка Шелла"
   ]
  },
  {
   "cell_type": "code",
   "execution_count": 7,
   "id": "81279a60",
   "metadata": {},
   "outputs": [],
   "source": [
    "def shell_sort(matrix):\n",
    "    n = len(matrix[0])\n",
    "    k = int(math.log2(n))\n",
    "    interval = int(2**k -1)\n",
    "    while interval > 0:\n",
    "        for row in range(len(matrix)):\n",
    "            for col in range(interval, n):\n",
    "                temp = matrix[row][col]\n",
    "                j = col\n",
    "                while j >= interval and matrix[row][j - interval] > temp:\n",
    "                    matrix[row][j] = matrix[row][j - interval]\n",
    "                    j -= interval\n",
    "                matrix[row][j] = temp\n",
    "        k -= 1\n",
    "        interval = int(2**k -1)\n",
    "    return matrix"
   ]
  },
  {
   "cell_type": "markdown",
   "id": "2a235264",
   "metadata": {},
   "source": [
    "### Турнирная сортировка"
   ]
  },
  {
   "cell_type": "code",
   "execution_count": 8,
   "id": "f1ea5823",
   "metadata": {},
   "outputs": [],
   "source": [
    "def tournament_sort(matrix):\n",
    "    tree = [None] * 2 * (len(matrix) + len(matrix) % 2)\n",
    "    index = len(tree) - len(matrix) - len(matrix) % 2\n",
    "\n",
    "    for i, v in enumerate(matrix):\n",
    "        tree[index + i] = (i, v)\n",
    "\n",
    "    for j in range(len(matrix)):\n",
    "        n = len(matrix)\n",
    "        index = len(tree) - len(matrix) - len(matrix) % 2\n",
    "        while index > -1:\n",
    "            n = (n + 1) // 2\n",
    "            for i in range(n):\n",
    "                i = max(index + i * 2, 1)\n",
    "                if tree[i] != None and tree[i + 1] != None:\n",
    "                    if tree[i][1] < tree[i + 1][1]:\n",
    "                        tree[i // 2] = tree[i]\n",
    "                    else:\n",
    "                        tree[i // 2] = tree[i + 1]\n",
    "                else:\n",
    "                    tree[i // 2] = tree[i] if tree[i] != None else tree[i + 1]\n",
    "            index -= n\n",
    "\n",
    "        index, x = tree[0]\n",
    "        matrix[j] = x\n",
    "        tree[len(tree) - len(matrix) - len(matrix) % 2 + index] = None\n",
    "\n",
    "        \n",
    "def tournament_sort_full(matrix):\n",
    "    for i in range(len(matrix)):\n",
    "        tournament_sort(matrix[i])\n",
    "    return matrix"
   ]
  },
  {
   "cell_type": "markdown",
   "id": "1930bbe8",
   "metadata": {},
   "source": [
    "### Быстрая сортировка"
   ]
  },
  {
   "cell_type": "code",
   "execution_count": 9,
   "id": "942bc685",
   "metadata": {},
   "outputs": [],
   "source": [
    "def partition(matrix, low, high,row):\n",
    "    pivot = matrix[row][(low + high) // 2]\n",
    "    i = low - 1\n",
    "    j = high + 1\n",
    "    while True:\n",
    "        i += 1\n",
    "        while matrix[row][i] < pivot:\n",
    "            i += 1\n",
    "\n",
    "        j -= 1\n",
    "        while matrix[row][j] > pivot:\n",
    "            j -= 1\n",
    "\n",
    "        if i >= j:\n",
    "            return j\n",
    "\n",
    "        matrix[row][i], matrix[row][j] = matrix[row][j], matrix[row][i]\n",
    "\n",
    "        \n",
    "def quick_sort(matrix):\n",
    "    def _quick_sort(items, low, high,row):\n",
    "        if low < high:\n",
    "            split_index = partition(items, low, high,row)\n",
    "            _quick_sort(items, low, split_index,row)\n",
    "            _quick_sort(items, split_index + 1, high,row)\n",
    "\n",
    "    for row in range(len(matrix)):\n",
    "        _quick_sort(matrix, 0, len(matrix[row])-1,row)\n",
    "\n",
    "    return matrix"
   ]
  },
  {
   "cell_type": "markdown",
   "id": "f6ebfba9",
   "metadata": {},
   "source": [
    "### Пирамидальная сортировка"
   ]
  },
  {
   "cell_type": "code",
   "execution_count": 10,
   "id": "54076b9c",
   "metadata": {},
   "outputs": [],
   "source": [
    "def heapify(matrix, n, i, row):\n",
    "    largest = i\n",
    "    l = 2 * i + 1\n",
    "    r = 2 * i + 2\n",
    "    \n",
    "    if l < n and matrix[row][i] < matrix[row][l]:\n",
    "        largest = l\n",
    "    if r < n and matrix[row][largest] < matrix[row][r]:\n",
    "        largest = r\n",
    "    \n",
    "    if largest != i:\n",
    "        matrix[row][i], matrix[row][largest] = matrix[row][largest], matrix[row][i]\n",
    "        heapify(matrix, n, largest, row)\n",
    "        \n",
    "        \n",
    "def heap_sort(matrix):\n",
    "    for row in range(len(matrix)):\n",
    "        n = len(matrix[0])\n",
    "        for i in range(n//2, -1, -1):\n",
    "            heapify(matrix, n, i, row)\n",
    "        for i in range(n-1, 0, -1):\n",
    "            matrix[row][i], matrix[row][0] = matrix[row][0], matrix[row][i]\n",
    "            heapify(matrix, i, 0, row)\n",
    "    return matrix"
   ]
  },
  {
   "cell_type": "markdown",
   "id": "c166dc1c",
   "metadata": {},
   "source": [
    "### Начало программы"
   ]
  },
  {
   "cell_type": "code",
   "execution_count": 34,
   "id": "8f868cc3",
   "metadata": {},
   "outputs": [
    {
     "name": "stdout",
     "output_type": "stream",
     "text": [
      "Хотите ли вы указать параметры матрицы Да/Нет? Нет\n"
     ]
    }
   ],
   "source": [
    "ans = input(\"Хотите ли вы указать параметры матрицы Да/Нет? \")\n",
    "matrix = matrix_generation(ans)"
   ]
  },
  {
   "cell_type": "code",
   "execution_count": 35,
   "id": "50f1bcf6",
   "metadata": {},
   "outputs": [
    {
     "name": "stdout",
     "output_type": "stream",
     "text": [
      "Сортировка простым выбором\n",
      "Время выполнения:  0.01 sec\n"
     ]
    }
   ],
   "source": [
    "selection_sort_matrix = copy.deepcopy(matrix)\n",
    "start_time = time.time()\n",
    "selection_sort(selection_sort_matrix)\n",
    "end_time_selection_sort = time.time()-start_time\n",
    "print(\"Сортировка простым выбором\")\n",
    "print(\"Время выполнения: \",'%.2f' %end_time_selection_sort,\"sec\")"
   ]
  },
  {
   "cell_type": "code",
   "execution_count": 36,
   "id": "60619f45",
   "metadata": {},
   "outputs": [
    {
     "name": "stdout",
     "output_type": "stream",
     "text": [
      "Сортировка вставкой\n",
      "Время выполнения:  0.00 sec\n"
     ]
    }
   ],
   "source": [
    "insertion_sort_matrix = copy.deepcopy(matrix)\n",
    "start_time = time.time()\n",
    "insertion_sort(insertion_sort_matrix)\n",
    "end_time_insertion_sort = time.time()-start_time\n",
    "print(\"Сортировка вставкой\")\n",
    "print(\"Время выполнения: \",'%.2f' %end_time_insertion_sort,\"sec\")  "
   ]
  },
  {
   "cell_type": "code",
   "execution_count": 37,
   "id": "7ae89ff6",
   "metadata": {},
   "outputs": [
    {
     "name": "stdout",
     "output_type": "stream",
     "text": [
      "Сортировка обменом\n",
      "Время выполнения:  0.01 sec\n"
     ]
    }
   ],
   "source": [
    "exchange_sort_matrix = copy.deepcopy(matrix)\n",
    "start_time = time.time()\n",
    "exchange_sort(exchange_sort_matrix)\n",
    "end_time_exchange_sort = time.time()-start_time\n",
    "print(\"Сортировка обменом\")\n",
    "print(\"Время выполнения: \",'%.2f' %end_time_exchange_sort,\"sec\")"
   ]
  },
  {
   "cell_type": "code",
   "execution_count": 38,
   "id": "f4d797a0",
   "metadata": {},
   "outputs": [
    {
     "name": "stdout",
     "output_type": "stream",
     "text": [
      "Шелл сортировка\n",
      "Время выполнения:  0.00 sec\n"
     ]
    }
   ],
   "source": [
    "shell_sort_matrix = copy.deepcopy(matrix)\n",
    "start_time = time.time()\n",
    "shell_sort(shell_sort_matrix)\n",
    "end_time_shell_sort = time.time()-start_time\n",
    "print(\"Шелл сортировка\")\n",
    "print(\"Время выполнения: \",'%.2f' %end_time_shell_sort,\"sec\")"
   ]
  },
  {
   "cell_type": "code",
   "execution_count": 39,
   "id": "ba7398aa",
   "metadata": {},
   "outputs": [
    {
     "name": "stdout",
     "output_type": "stream",
     "text": [
      "Турнирная сортировка\n",
      "Время выполнения:  0.05 sec\n"
     ]
    }
   ],
   "source": [
    "tournament_sort_matrix = copy.deepcopy(matrix)\n",
    "start_time = time.time()\n",
    "tournament_sort_full(tournament_sort_matrix)\n",
    "end_time_tournament_sort = time.time()-start_time\n",
    "print(\"Турнирная сортировка\")\n",
    "print(\"Время выполнения: \",'%.2f' %end_time_tournament_sort,\"sec\")"
   ]
  },
  {
   "cell_type": "code",
   "execution_count": 40,
   "id": "5ec6b513",
   "metadata": {},
   "outputs": [
    {
     "name": "stdout",
     "output_type": "stream",
     "text": [
      "Быстрая сортировка\n",
      "Время выполнения:  0.00 sec\n"
     ]
    }
   ],
   "source": [
    "quick_sort_matrix = copy.deepcopy(matrix)\n",
    "start_time = time.time()\n",
    "quick_sort(quick_sort_matrix)\n",
    "end_time_quick_sort = time.time()-start_time\n",
    "print(\"Быстрая сортировка\")\n",
    "print(\"Время выполнения: \",'%.2f' %end_time_quick_sort,\"sec\")"
   ]
  },
  {
   "cell_type": "code",
   "execution_count": 41,
   "id": "8f8f8ac3",
   "metadata": {},
   "outputs": [
    {
     "name": "stdout",
     "output_type": "stream",
     "text": [
      "Пирамидальная сортировка\n",
      "Время выполнения:  0.01 sec\n"
     ]
    }
   ],
   "source": [
    "heap_sort_matrix = copy.deepcopy(matrix)\n",
    "start_time = time.time()\n",
    "heap_sort(heap_sort_matrix)\n",
    "end_time_heap_sort = time.time()-start_time\n",
    "print(\"Пирамидальная сортировка\")\n",
    "print(\"Время выполнения: \",'%.2f' %end_time_heap_sort,\"sec\")"
   ]
  },
  {
   "cell_type": "code",
   "execution_count": 42,
   "id": "20aa577e",
   "metadata": {},
   "outputs": [
    {
     "name": "stdout",
     "output_type": "stream",
     "text": [
      "Стандартная сортировка\n",
      "Время выполнения:  0.00 sec\n"
     ]
    }
   ],
   "source": [
    "basic_sort = copy.deepcopy(matrix)\n",
    "start_time = time.time()\n",
    "for i in range(len(basic_sort)):\n",
    "    basic_sort[i].sort()\n",
    "end_time_basic_sort = time.time()-start_time\n",
    "print(\"Стандартная сортировка\")\n",
    "print(\"Время выполнения: \",'%.2f' %end_time_basic_sort,\"sec\")"
   ]
  },
  {
   "cell_type": "markdown",
   "id": "da8dfb0c",
   "metadata": {},
   "source": [
    "### Вывод результатов"
   ]
  },
  {
   "cell_type": "code",
   "execution_count": 43,
   "id": "633fd04f",
   "metadata": {},
   "outputs": [
    {
     "data": {
      "text/html": [
       "<div>\n",
       "<style scoped>\n",
       "    .dataframe tbody tr th:only-of-type {\n",
       "        vertical-align: middle;\n",
       "    }\n",
       "\n",
       "    .dataframe tbody tr th {\n",
       "        vertical-align: top;\n",
       "    }\n",
       "\n",
       "    .dataframe thead th {\n",
       "        text-align: right;\n",
       "    }\n",
       "</style>\n",
       "<table border=\"1\" class=\"dataframe\">\n",
       "  <thead>\n",
       "    <tr style=\"text-align: right;\">\n",
       "      <th></th>\n",
       "      <th>Название сортировки</th>\n",
       "      <th>Время выполнения сек</th>\n",
       "    </tr>\n",
       "  </thead>\n",
       "  <tbody>\n",
       "    <tr>\n",
       "      <th>1</th>\n",
       "      <td>Сортировка выбором</td>\n",
       "      <td>0.007983</td>\n",
       "    </tr>\n",
       "    <tr>\n",
       "      <th>2</th>\n",
       "      <td>Сортировка вставкой</td>\n",
       "      <td>0.004957</td>\n",
       "    </tr>\n",
       "    <tr>\n",
       "      <th>3</th>\n",
       "      <td>Сортировка пузырьком</td>\n",
       "      <td>0.008951</td>\n",
       "    </tr>\n",
       "    <tr>\n",
       "      <th>4</th>\n",
       "      <td>Сортировка Шелла</td>\n",
       "      <td>0.001964</td>\n",
       "    </tr>\n",
       "    <tr>\n",
       "      <th>5</th>\n",
       "      <td>Турнирная сортировка</td>\n",
       "      <td>0.047904</td>\n",
       "    </tr>\n",
       "    <tr>\n",
       "      <th>6</th>\n",
       "      <td>Пирамидальная сортировка</td>\n",
       "      <td>0.005073</td>\n",
       "    </tr>\n",
       "    <tr>\n",
       "      <th>7</th>\n",
       "      <td>Быстрая сортировка</td>\n",
       "      <td>0.002994</td>\n",
       "    </tr>\n",
       "    <tr>\n",
       "      <th>8</th>\n",
       "      <td>Стандартная сортировка</td>\n",
       "      <td>0.000000</td>\n",
       "    </tr>\n",
       "  </tbody>\n",
       "</table>\n",
       "</div>"
      ],
      "text/plain": [
       "        Название сортировки  Время выполнения сек\n",
       "1        Сортировка выбором              0.007983\n",
       "2       Сортировка вставкой              0.004957\n",
       "3      Сортировка пузырьком              0.008951\n",
       "4          Сортировка Шелла              0.001964\n",
       "5      Турнирная сортировка              0.047904\n",
       "6  Пирамидальная сортировка              0.005073\n",
       "7        Быстрая сортировка              0.002994\n",
       "8    Стандартная сортировка              0.000000"
      ]
     },
     "execution_count": 43,
     "metadata": {},
     "output_type": "execute_result"
    }
   ],
   "source": [
    "sort_time = {\"Название сортировки\": [\"Сортировка выбором\",\"Сортировка вставкой\",\"Сортировка пузырьком\",\n",
    "                           \"Сортировка Шелла\",\"Турнирная сортировка\",\"Пирамидальная сортировка\",\n",
    "                           \"Быстрая сортировка\",\"Стандартная сортировка\"],\n",
    "             \"Время выполнения сек\" : [end_time_selection_sort,end_time_insertion_sort,end_time_exchange_sort,end_time_shell_sort,\n",
    "                       end_time_tournament_sort,end_time_heap_sort,end_time_quick_sort,end_time_basic_sort]}\n",
    "df = pd.DataFrame(sort_time, index = [\"1\",\"2\",\"3\",\"4\",\"5\",\"6\",\"7\",\"8\"])\n",
    "df"
   ]
  },
  {
   "cell_type": "markdown",
   "id": "0db24441",
   "metadata": {},
   "source": [
    "## Задание №4\n",
    "Создать публичный репозиторий на github, и запушить выполненное задание в\n",
    ".ipynb формате."
   ]
  },
  {
   "cell_type": "code",
   "execution_count": null,
   "id": "3eadc318",
   "metadata": {},
   "outputs": [],
   "source": []
  }
 ],
 "metadata": {
  "kernelspec": {
   "display_name": "Python 3 (ipykernel)",
   "language": "python",
   "name": "python3"
  },
  "language_info": {
   "codemirror_mode": {
    "name": "ipython",
    "version": 3
   },
   "file_extension": ".py",
   "mimetype": "text/x-python",
   "name": "python",
   "nbconvert_exporter": "python",
   "pygments_lexer": "ipython3",
   "version": "3.10.1"
  }
 },
 "nbformat": 4,
 "nbformat_minor": 5
}
